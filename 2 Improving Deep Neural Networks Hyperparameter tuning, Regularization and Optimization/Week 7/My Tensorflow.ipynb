{
 "cells": [
  {
   "cell_type": "code",
   "execution_count": null,
   "metadata": {},
   "outputs": [],
   "source": [
    "# initialize hyperparameters"
   ]
  },
  {
   "cell_type": "code",
   "execution_count": null,
   "metadata": {},
   "outputs": [],
   "source": []
  },
  {
   "cell_type": "code",
   "execution_count": null,
   "metadata": {},
   "outputs": [],
   "source": []
  },
  {
   "cell_type": "code",
   "execution_count": 15,
   "metadata": {},
   "outputs": [],
   "source": [
    "# initialize parameters\n",
    "\n",
    "def initialize_parameters(parameters, layer, dimension):\n",
    "    \n",
    "    W = tf.get_variable(\"W\" + layer, dimension[\"W\"], initializer = tf.contrib.layers.xavier_initializer(seed = 1)); # Remove after\n",
    "    b = tf.get_variable(\"b\" + layer, dimension[\"b\"], initializer = tf.zeros_initializer())\n",
    "    \n",
    "    parameters ={\n",
    "        \"W\" + layer: W\n",
    "        , \"b\" + layer: b\n",
    "    };\n",
    "    \n",
    "    return parameters;"
   ]
  },
  {
   "cell_type": "code",
   "execution_count": 16,
   "metadata": {},
   "outputs": [],
   "source": [
    "# forward propogation\n",
    "\n",
    "def forward_propogation(X, parameters, hyperparameters, keep_prob = 1):\n",
    "    \n",
    "    A[0] = X;\n",
    "    \n",
    "    layers = hyperparameters[\"layers\"];\n",
    "    \n",
    "    for i in range(len(layers)):\n",
    "        W[i+1] = parameters[\"W\" + (i+1)];\n",
    "        b[i+1] = parameters[\"b\" + (i+1)];\n",
    "        A[i+1] = tf.nn.relu(tf.matmul(A[i], W[i+1]) + b[i+1]);\n",
    "        A[i+1] = tf.nn.dropout(A[i + 1], keep_prob);\n",
    "    \n",
    "    \n",
    "    return A[len(layers)];"
   ]
  },
  {
   "cell_type": "code",
   "execution_count": 17,
   "metadata": {},
   "outputs": [],
   "source": [
    "# model\n",
    "\n",
    "def model (X_train, Y_train, X_test, Y_test, hyperparameters):\n",
    "    \n",
    "    layers = hyperparameters[\"layers\"];\n",
    "    learning_rate = hyperparameters[\"learning_rate\"];\n",
    "    epochs = hyperparameters[\"epochs\"];\n",
    "    minibatch_size = hyperparameters[\"minibatch_size\"];\n",
    "    \n",
    "    # initialize weight and biases\n",
    "    parameters = {}\n",
    "    for i in range(len(layers) - 1):\n",
    "        parameters = initialize_parameters(parameters, i + 1, {\"W\": [layers[i+1], layers[i]], \"b\": [layers[i+1], 1]});\n",
    "    \n",
    "    # Forward Propogation\n",
    "    logits = forward_propogation(X, parameters, hyperparameters);\n",
    "    \n",
    "    cost = tf.reduce_mean(\n",
    "        # Maybe need transpose ?\n",
    "        tf.nn.softmax_cross_entropy_with_logits(logits = logits, labels = labels)\n",
    "        # Need regulurazation\n",
    "    );\n",
    "    \n",
    "    # ...izer :-)\n",
    "    optimizer = tf.train.AdamOptimizer(learning_rate = learning_rate).minimize(cost);\n",
    "    initializer = tf.global_variables_initializer();\n",
    "    \n",
    "    # Start session\n",
    "    with tf.Session() as sess:\n",
    "        # Run the initialization\n",
    "        sess.run(initializer)\n",
    "        \n",
    "        # Do the training loop\n",
    "        for epoch in range(epochs):\n",
    "            minibatches = random_mini_batches(X_train, Y_train, minibatch_size)\n",
    "            \n",
    "            for minibatch in minibatches:\n",
    "                \n",
    "                # Select a minibatch\n",
    "                (minibatch_X, minibatch_Y) = minibatch\n",
    "                \n",
    "                _ , minibatch_cost = sess.run([optimizer, cost], feed_dict = {X: minibatch_X, Y: minibatch_Y, keep_prob: 0.2})\n",
    "        \n",
    "    \n",
    "    \n",
    "    \n",
    "    return parameters;"
   ]
  },
  {
   "cell_type": "code",
   "execution_count": 9,
   "metadata": {},
   "outputs": [
    {
     "name": "stdout",
     "output_type": "stream",
     "text": [
      "4\n",
      "4\n",
      "4\n"
     ]
    }
   ],
   "source": [
    "# hyperparameters searching\n",
    "\n",
    "class tuning():\n",
    "    def set_learning_rate(learning_rate):\n",
    "        learning_rate = learning_rate;\n",
    "        return None;\n",
    "    \n",
    "    def set_layer(layer_index, neurons):\n",
    "        layers;\n",
    "        return None;\n",
    "    \n",
    "    def set_mini_batch_size():\n",
    "        \n",
    "        return None;\n",
    "    \n",
    "    return None;\n"
   ]
  },
  {
   "cell_type": "code",
   "execution_count": null,
   "metadata": {},
   "outputs": [],
   "source": []
  }
 ],
 "metadata": {
  "kernelspec": {
   "display_name": "Python 3",
   "language": "python",
   "name": "python3"
  },
  "language_info": {
   "codemirror_mode": {
    "name": "ipython",
    "version": 3
   },
   "file_extension": ".py",
   "mimetype": "text/x-python",
   "name": "python",
   "nbconvert_exporter": "python",
   "pygments_lexer": "ipython3",
   "version": "3.5.5"
  }
 },
 "nbformat": 4,
 "nbformat_minor": 2
}
