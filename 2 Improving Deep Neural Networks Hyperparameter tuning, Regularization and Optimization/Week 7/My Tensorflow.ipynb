{
 "cells": [
  {
   "cell_type": "code",
   "execution_count": null,
   "metadata": {},
   "outputs": [],
   "source": [
    "import math\n",
    "import numpy as np\n",
    "import h5py\n",
    "import matplotlib.pyplot as plt\n",
    "import tensorflow as tf\n",
    "from tensorflow.python.framework import ops\n",
    "from tf_utils import random_mini_batches, convert_to_one_hot\n",
    "from functools import partial\n",
    "\n",
    "%matplotlib inline\n",
    "np.random.seed(1)"
   ]
  },
  {
   "cell_type": "code",
   "execution_count": 2,
   "metadata": {},
   "outputs": [],
   "source": [
    "def my_load_dataset():\n",
    "    train_dataset = h5py.File('data_augmented_train.h5', \"r\")\n",
    "    train_set_x_orig = np.array(train_dataset[\"train_set_x\"][:]) # your train set features\n",
    "    train_set_y_orig = np.array(train_dataset[\"train_set_y\"][:]) # your train set labels\n",
    "\n",
    "    test_dataset = h5py.File('datasets/test_signs.h5', \"r\")\n",
    "    test_set_x_orig = np.array(test_dataset[\"test_set_x\"][:]) # your test set features\n",
    "    test_set_y_orig = np.array(test_dataset[\"test_set_y\"][:]) # your test set labels\n",
    "\n",
    "    classes = np.array(test_dataset[\"list_classes\"][:]) # the list of classes\n",
    "    \n",
    "    train_set_y_orig = train_set_y_orig.reshape((1, train_set_y_orig.shape[0]))\n",
    "    test_set_y_orig = test_set_y_orig.reshape((1, test_set_y_orig.shape[0]))\n",
    "    \n",
    "    return train_set_x_orig, train_set_y_orig, test_set_x_orig, test_set_y_orig, classes"
   ]
  },
  {
   "cell_type": "code",
   "execution_count": 3,
   "metadata": {},
   "outputs": [],
   "source": [
    "# Loading the dataset\n",
    "X_train_orig, Y_train_orig, X_test_orig, Y_test_orig, classes = my_load_dataset()"
   ]
  },
  {
   "cell_type": "code",
   "execution_count": 4,
   "metadata": {},
   "outputs": [
    {
     "name": "stdout",
     "output_type": "stream",
     "text": [
      "number of training examples = 168\n",
      "number of test examples = 120\n",
      "X_train shape: (12288, 168)\n",
      "Y_train shape: (6, 168)\n",
      "X_test shape: (12288, 120)\n",
      "Y_test shape: (6, 120)\n"
     ]
    }
   ],
   "source": [
    "# Flatten the training and test images\n",
    "X_train_flatten = X_train_orig.reshape(X_train_orig.shape[0], -1).T\n",
    "X_test_flatten = X_test_orig.reshape(X_test_orig.shape[0], -1).T\n",
    "# Normalize image vectors\n",
    "X_train = X_train_flatten/255.\n",
    "X_test = X_test_flatten/255.\n",
    "# Convert training and test labels to one hot matrices\n",
    "Y_train = convert_to_one_hot(Y_train_orig, 6)\n",
    "Y_test = convert_to_one_hot(Y_test_orig, 6)\n",
    "\n",
    "print (\"number of training examples = \" + str(X_train.shape[1]))\n",
    "print (\"number of test examples = \" + str(X_test.shape[1]))\n",
    "print (\"X_train shape: \" + str(X_train.shape))\n",
    "print (\"Y_train shape: \" + str(Y_train.shape))\n",
    "print (\"X_test shape: \" + str(X_test.shape))\n",
    "print (\"Y_test shape: \" + str(Y_test.shape))"
   ]
  },
  {
   "cell_type": "code",
   "execution_count": 5,
   "metadata": {},
   "outputs": [],
   "source": [
    "# initialize parameters\n",
    "\n",
    "def initialize_parameters(parameters, layer, dimension):\n",
    "    \n",
    "    tf.set_random_seed(1);\n",
    "    \n",
    "    parameters[layer] = {};\n",
    "    parameters[layer][\"W\"] = tf.get_variable(\"W\" + str(layer), dimension[\"W\"], initializer = tf.contrib.layers.xavier_initializer(seed = 1));\n",
    "    parameters[layer][\"b\"] = tf.get_variable(\"b\" + str(layer), dimension[\"b\"], initializer = tf.zeros_initializer())\n",
    "    \n",
    "    return parameters;"
   ]
  },
  {
   "cell_type": "code",
   "execution_count": 6,
   "metadata": {},
   "outputs": [],
   "source": [
    "# forward propogation\n",
    "\n",
    "def loss_with_droupout(A, keep_prob):\n",
    "    return tf.nn.dropout(A, keep_prob);\n",
    "\n",
    "def without_dropout():\n",
    "    return 0.0;\n",
    "\n",
    "def forward_propagation(X, parameters, hyperparameters, dropout = True):\n",
    "    \n",
    "    A = X\n",
    "    \n",
    "    layers = hyperparameters[\"layers\"];\n",
    "    \n",
    "    false_dropout = 1 # tf.constant(1)\n",
    "    \n",
    "    for i in range(len(layers) - 1):\n",
    "        A = tf.add(tf.matmul( parameters[i+1][\"W\"], A ), parameters[i+1][\"b\"])\n",
    "        \n",
    "        if(layers[i+1][\"activation_function\"] == \"relu\"):\n",
    "            A = tf.nn.relu(A);\n",
    "        if(layers[i+1][\"activation_function\"] == \"relu6\"):\n",
    "            A = tf.nn.relu6(A);\n",
    "        if(layers[i+1][\"activation_function\"] == \"sigmoid\"):\n",
    "            A = tf.nn.sigmoid(A);\n",
    "        if(layers[i+1][\"activation_function\"] == \"leaky_relu\"):\n",
    "            A = tf.nn.leaky_relu(A);\n",
    "        if(layers[i+1][\"activation_function\"] == \"tanh\"):\n",
    "            A = tf.nn.tanh(A);\n",
    "        if(layers[i+1][\"activation_function\"] == \"tanh\"):\n",
    "            A = tf.nn.tanh(A);\n",
    "        \n",
    "#         if (i+1 < len(layers) - 1 ):\n",
    "            \n",
    "        A = tf.add(A, tf.cond(dropout, partial(loss_with_droupout, A, layers[i+1][\"keep_prob\"]), without_dropout ));\n",
    "        \n",
    "    return A;"
   ]
  },
  {
   "cell_type": "code",
   "execution_count": 7,
   "metadata": {},
   "outputs": [],
   "source": [
    "def compute_cost(logits, labels, parameters, hyperparameters, beta = 0):\n",
    "    \n",
    "    layers = hyperparameters[\"layers\"];\n",
    "    \n",
    "    cost = tf.reduce_mean(\n",
    "        # Maybe need transpose ?\n",
    "        tf.nn.softmax_cross_entropy_with_logits(logits = logits, labels = labels)\n",
    "        # Need regulurazation\n",
    "    );\n",
    "    \n",
    "    # regularization\n",
    "    for i in range(len(layers) - 1):\n",
    "        cost = tf.add(cost, tf.nn.l2_loss(parameters[i+1][\"W\"]) * beta);\n",
    "    \n",
    "    return cost;"
   ]
  },
  {
   "cell_type": "code",
   "execution_count": 8,
   "metadata": {},
   "outputs": [],
   "source": [
    "# model\n",
    "\n",
    "def model (X_train, Y_train, X_test, Y_test, hyperparameters, print_cost = True):\n",
    "    \n",
    "    layers = hyperparameters[\"layers\"];\n",
    "    epochs = hyperparameters[\"epochs\"];\n",
    "    minibatch_size = hyperparameters[\"minibatch_size\"];\n",
    "    \n",
    "    learning_rate = hyperparameters[\"learning_rate\"];\n",
    "    beta = hyperparameters[\"beta\"];\n",
    "    \n",
    "    # constant\n",
    "#     learning_rate = tf.constant(hyperparameters[\"learning_rate\"], name='learning_rate')\n",
    "#     beta = tf.constant(hyperparameters[\"beta\"], name='beta')\n",
    "    \n",
    "    \n",
    "    ops.reset_default_graph()\n",
    "    tf.set_random_seed(1)                             # to keep consistent results\n",
    "    seed = 3                                          # to keep consistent results\n",
    "    costs = []\n",
    "    \n",
    "    (n_x, m) = X_train.shape\n",
    "    n_y = Y_train.shape[0]\n",
    "    X = tf.placeholder(tf.float32, shape=(n_x, None))\n",
    "    Y = tf.placeholder(tf.float32, shape=(n_y, None))\n",
    "    \n",
    "    # initialize weight and biases\n",
    "    parameters = {}\n",
    "    for i in range(len(layers)-1):\n",
    "        parameters = initialize_parameters(parameters, i + 1, {\"W\": [layers[i+1]['neurons'], layers[i]['neurons']], \"b\": [layers[i+1]['neurons'], 1]});\n",
    "    \n",
    "    # Forward Propogation\n",
    "    dropout = tf.placeholder(tf.bool, name = \"dropout\")\n",
    "    logits = forward_propagation(X, parameters, hyperparameters, dropout);\n",
    "    \n",
    "    cost = compute_cost(tf.transpose(logits), tf.transpose(Y), parameters, hyperparameters, beta);\n",
    "    \n",
    "    # ...izer :-)\n",
    "    optimizer = tf.train.AdamOptimizer(learning_rate = learning_rate).minimize(cost);\n",
    "    initializer = tf.global_variables_initializer();\n",
    "    \n",
    "    # Start session\n",
    "    with tf.Session() as sess:\n",
    "        # Run the initialization\n",
    "        sess.run(initializer)\n",
    "        \n",
    "        # Do the training loop\n",
    "        for epoch in range(epochs):\n",
    "\n",
    "            epoch_cost = 0.                       # Defines a cost related to an epoch\n",
    "            num_minibatches = int(m / minibatch_size) # number of minibatches of size minibatch_size in the train set\n",
    "            seed = seed + 1\n",
    "            minibatches = random_mini_batches(X_train, Y_train, minibatch_size, seed)\n",
    "\n",
    "            for minibatch in minibatches:\n",
    "\n",
    "                # Select a minibatch\n",
    "                (minibatch_X, minibatch_Y) = minibatch\n",
    "                \n",
    "                # IMPORTANT: The line that runs the graph on a minibatch.\n",
    "                # Run the session to execute the \"optimizer\" and the \"cost\", the feedict should contain a minibatch for (X,Y).\n",
    "                ### START CODE HERE ### (1 line)\n",
    "                _ , minibatch_cost = sess.run([optimizer, cost], feed_dict={X: minibatch_X, Y: minibatch_Y, dropout: True})\n",
    "                ### END CODE HERE ###\n",
    "                \n",
    "                epoch_cost += minibatch_cost / num_minibatches\n",
    "\n",
    "            # Print the cost every epoch\n",
    "            if print_cost == True and epoch % 100 == 0:\n",
    "                print (\"Cost after epoch %i: %f\" % (epoch, epoch_cost))\n",
    "            if print_cost == True and epoch % 5 == 0:\n",
    "                costs.append(epoch_cost)\n",
    "                \n",
    "        # plot the cost\n",
    "        plt.plot(np.squeeze(costs))\n",
    "        plt.ylabel('cost')\n",
    "        plt.xlabel('iterations (per tens)')\n",
    "        plt.title(\"Learning rate =\" + str(learning_rate))\n",
    "        plt.show()\n",
    "        \n",
    "        \n",
    "        \n",
    "        # lets save the parameters in a variable\n",
    "        parameters = sess.run(parameters)\n",
    "        print (\"Parameters have been trained!\")\n",
    "\n",
    "        # Calculate the correct predictions\n",
    "        correct_prediction = tf.equal(tf.argmax(logits), tf.argmax(Y))\n",
    "\n",
    "        # Calculate accuracy on the test set\n",
    "        accuracy = tf.reduce_mean(tf.cast(correct_prediction, \"float\"))\n",
    "\n",
    "        print (\"Train Accuracy:\", accuracy.eval({X: X_train, Y: Y_train, dropout: False}))\n",
    "        print (\"Test Accuracy:\", accuracy.eval({X: X_test, Y: Y_test, dropout: False}))\n",
    "        \n",
    "        return parameters;"
   ]
  },
  {
   "cell_type": "code",
   "execution_count": 9,
   "metadata": {},
   "outputs": [],
   "source": [
    "# hyperparameters searching\n",
    "\n",
    "class tuning():\n",
    "    \n",
    "    def __init__(self):\n",
    "        self.hyperparameters = {};\n",
    "        self.hyperparameters['layers'] = [];\n",
    "        \n",
    "    def set_parameter(self, parameter_name, parameter_value):\n",
    "        self.hyperparameters[parameter_name] = parameter_value;\n",
    "        return self.hyperparameters;\n",
    "    \n",
    "    def set_layer(self, neurons, activation_function = \"relu\", keep_prob = 1):\n",
    "        \n",
    "        a = {};\n",
    "        a['neurons'] = neurons;\n",
    "        a['activation_function'] = activation_function;\n",
    "        a['keep_prob'] = keep_prob;\n",
    "        \n",
    "        self.hyperparameters['layers'].append(a);\n",
    "#         self.hyperparameters['layers'][layer_index] = {};\n",
    "#         self.hyperparameters['layers'][layer_index]['neurons'] = neurons;\n",
    "#         self.hyperparameters['layers'][layer_index]['keep_prob'] = keep_prob;\n",
    "        return self.hyperparameters;\n"
   ]
  },
  {
   "cell_type": "code",
   "execution_count": 10,
   "metadata": {},
   "outputs": [],
   "source": [
    "tune = tuning();\n",
    "\n",
    "tune.set_parameter(\"learning_rate\", 10e-5);\n",
    "tune.set_parameter(\"epochs\", 3000);\n",
    "tune.set_parameter(\"minibatch_size\", 32);\n",
    "tune.set_parameter(\"beta\", 10e-3);\n",
    "\n",
    "tune.set_layer(12288, activation_function = \"relu\");\n",
    "tune.set_layer(25, activation_function = \"relu\");\n",
    "tune.set_layer(15, activation_function = \"relu\", keep_prob = 0.8);\n",
    "tune.set_layer(12, activation_function = \"relu\", keep_prob = 0.7);\n",
    "tune.set_layer(6, activation_function = \"cost\");\n"
   ]
  },
  {
   "cell_type": "code",
   "execution_count": 11,
   "metadata": {},
   "outputs": [
    {
     "name": "stdout",
     "output_type": "stream",
     "text": [
      "Cost after epoch 0: 4.655957\n"
     ]
    },
    {
     "data": {
      "image/png": "[encoded data removed]",
      "text/plain": [
       "<matplotlib.figure.Figure at 0x22fd33c8>"
      ]
     },
     "metadata": {},
     "output_type": "display_data"
    },
    {
     "name": "stdout",
     "output_type": "stream",
     "text": [
      "Parameters have been trained!\n",
      "Train Accuracy: 0.035714287\n",
      "Test Accuracy: 0.13333334\n"
     ]
    }
   ],
   "source": [
    "parameters = model (X_train, Y_train, X_test, Y_test, tune.hyperparameters)"
   ]
  },
  {
   "cell_type": "code",
   "execution_count": 12,
   "metadata": {},
   "outputs": [],
   "source": [
    "def predict(X, parameters, hyperparameters):\n",
    "    \n",
    "    dropout = tf.placeholder(tf.bool, name = \"dropout\")\n",
    "    x = tf.placeholder(\"float\", [12288, 1])\n",
    "    \n",
    "    logits = forward_propagation(x, parameters, hyperparameters, dropout)\n",
    "    p = tf.argmax(logits)\n",
    "    \n",
    "    with tf.Session() as sess:\n",
    "        prediction = sess.run(p, feed_dict = {x: X, dropout: False})\n",
    "        \n",
    "    return prediction"
   ]
  },
  {
   "cell_type": "code",
   "execution_count": 16,
   "metadata": {},
   "outputs": [
    {
     "name": "stderr",
     "output_type": "stream",
     "text": [
      "C:\\ProgramData\\Anaconda3\\lib\\site-packages\\ipykernel_launcher.py:16: DeprecationWarning: `imread` is deprecated!\n",
      "`imread` is deprecated in SciPy 1.0.0.\n",
      "Use ``matplotlib.pyplot.imread`` instead.\n",
      "  app.launch_new_instance()\n",
      "C:\\ProgramData\\Anaconda3\\lib\\site-packages\\ipykernel_launcher.py:17: DeprecationWarning: `imresize` is deprecated!\n",
      "`imresize` is deprecated in SciPy 1.0.0, and will be removed in 1.2.0.\n",
      "Use ``skimage.transform.resize`` instead.\n"
     ]
    },
    {
     "name": "stdout",
     "output_type": "stream",
     "text": [
      "Sign 0 does NOT correct predicted :(\n",
      "Sign 1 does NOT correct predicted :(\n",
      "Sign 2 does NOT correct predicted :(\n",
      "Sign 3 does NOT correct predicted :(\n",
      "Sign 4 correct predicted :)\n",
      "Sign 5 does NOT correct predicted :(\n"
     ]
    },
    {
     "data": {
      "image/png": "[encoded data removed]",
      "text/plain": [
       "<matplotlib.figure.Figure at 0x245431d0>"
      ]
     },
     "metadata": {},
     "output_type": "display_data"
    }
   ],
   "source": [
    "import scipy\n",
    "from PIL import Image\n",
    "from scipy import ndimage\n",
    "\n",
    "## START CODE HERE ## (PUT YOUR IMAGE NAME) \n",
    "my_images   = [\"my0.jpg\", \"my1.jpg\", \"my2.jpg\", \"my3.jpg\", \"my4.jpg\", \"my5.jpg\"]\n",
    "my_classess = [0,1,2,3,4,5]\n",
    "## END CODE HERE ##\n",
    "\n",
    "    \n",
    "\n",
    "f, axarr = plt.subplots(len(my_images))\n",
    "k = 0;\n",
    "for i in range(0, len(my_images)):\n",
    "    fname = \"images/\" + my_images[i]\n",
    "    image = np.array(ndimage.imread(fname, flatten=False))\n",
    "    my_image = scipy.misc.imresize(image, size=(64,64))\n",
    "    \n",
    "    # START PLOT\n",
    "    k += 1;\n",
    "    img = axarr[k - 1].imshow(my_image, interpolation='nearest')\n",
    "    img.set_cmap('hot')\n",
    "    axarr[k - 1].axis('off')\n",
    "    axarr[k - 1].set_title(my_classess[i])\n",
    "    # END PLOT\n",
    "    \n",
    "    my_image = my_image.reshape((1, 64*64*3)).T\n",
    "    \n",
    "    \n",
    "    \n",
    "    my_image_prediction = predict(my_image, parameters, tune.hyperparameters)\n",
    "    \n",
    "    if(my_image_prediction == my_classess[i]):\n",
    "        print(\"Sign \" + str(my_classess[i]) + \" correct predicted :)\")\n",
    "    else:\n",
    "        print(\"Sign \" + str(my_classess[i]) + \" does NOT correct predicted :(\")\n",
    "\n",
    "\n",
    "# print(\"Your algorithm predicts: y = \" + str(np.squeeze(my_image_prediction)))"
   ]
  },
  {
   "cell_type": "code",
   "execution_count": null,
   "metadata": {},
   "outputs": [],
   "source": []
  }
 ],
 "metadata": {
  "kernelspec": {
   "display_name": "Python 3",
   "language": "python",
   "name": "python3"
  },
  "language_info": {
   "codemirror_mode": {
    "name": "ipython",
    "version": 3
   },
   "file_extension": ".py",
   "mimetype": "text/x-python",
   "name": "python",
   "nbconvert_exporter": "python",
   "pygments_lexer": "ipython3",
   "version": "3.5.5"
  }
 },
 "nbformat": 4,
 "nbformat_minor": 2
}
